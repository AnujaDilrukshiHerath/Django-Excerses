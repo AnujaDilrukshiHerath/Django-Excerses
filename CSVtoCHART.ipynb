{
  "nbformat": 4,
  "nbformat_minor": 0,
  "metadata": {
    "colab": {
      "provenance": [],
      "include_colab_link": true
    },
    "kernelspec": {
      "name": "python3",
      "display_name": "Python 3"
    },
    "language_info": {
      "name": "python"
    }
  },
  "cells": [
    {
      "cell_type": "markdown",
      "metadata": {
        "id": "view-in-github",
        "colab_type": "text"
      },
      "source": [
        "<a href=\"https://colab.research.google.com/github/AnujaDilrukshiHerath/Django-Excerses/blob/main/CSVtoCHART.ipynb\" target=\"_parent\"><img src=\"https://colab.research.google.com/assets/colab-badge.svg\" alt=\"Open In Colab\"/></a>"
      ]
    },
    {
      "cell_type": "code",
      "execution_count": null,
      "metadata": {
        "colab": {
          "base_uri": "https://localhost:8080/"
        },
        "id": "ab7l4f9jZVIt",
        "outputId": "bdaa3e2a-f448-4520-c83a-4cb8bac876b0"
      },
      "outputs": [
        {
          "output_type": "stream",
          "name": "stdout",
          "text": [
            "Collecting faker\n",
            "  Downloading Faker-20.1.0-py3-none-any.whl (1.7 MB)\n",
            "\u001b[?25l     \u001b[90m━━━━━━━━━━━━━━━━━━━━━━━━━━━━━━━━━━━━━━━━\u001b[0m \u001b[32m0.0/1.7 MB\u001b[0m \u001b[31m?\u001b[0m eta \u001b[36m-:--:--\u001b[0m\r\u001b[2K     \u001b[91m━\u001b[0m\u001b[91m╸\u001b[0m\u001b[90m━━━━━━━━━━━━━━━━━━━━━━━━━━━━━━━━━━━━━━\u001b[0m \u001b[32m0.1/1.7 MB\u001b[0m \u001b[31m2.0 MB/s\u001b[0m eta \u001b[36m0:00:01\u001b[0m\r\u001b[2K     \u001b[91m━━━━━━━━━━━━━━━━\u001b[0m\u001b[91m╸\u001b[0m\u001b[90m━━━━━━━━━━━━━━━━━━━━━━━\u001b[0m \u001b[32m0.7/1.7 MB\u001b[0m \u001b[31m10.6 MB/s\u001b[0m eta \u001b[36m0:00:01\u001b[0m\r\u001b[2K     \u001b[90m━━━━━━━━━━━━━━━━━━━━━━━━━━━━━━━━━━━━━━━━\u001b[0m \u001b[32m1.7/1.7 MB\u001b[0m \u001b[31m18.2 MB/s\u001b[0m eta \u001b[36m0:00:00\u001b[0m\n",
            "\u001b[?25hRequirement already satisfied: python-dateutil>=2.4 in /usr/local/lib/python3.10/dist-packages (from faker) (2.8.2)\n",
            "Requirement already satisfied: six>=1.5 in /usr/local/lib/python3.10/dist-packages (from python-dateutil>=2.4->faker) (1.16.0)\n",
            "Installing collected packages: faker\n",
            "Successfully installed faker-20.1.0\n"
          ]
        }
      ],
      "source": [
        "!pip install faker"
      ]
    },
    {
      "cell_type": "code",
      "source": [
        "import csv\n",
        "import random\n",
        "from datetime import datetime, timedelta\n",
        "\n",
        "def generate_random_date(start_date, end_date):\n",
        "    time_delta = end_date - start_date\n",
        "    random_days = random.randint(0, time_delta.days)\n",
        "    return start_date + timedelta(days=random_days)\n",
        "\n",
        "start_date = datetime(2023, 1, 1)\n",
        "end_date = datetime(2023, 12, 31)\n",
        "num_entries = 1000\n",
        "\n",
        "header = [\"date\", \"product\", \"product_category\", \"number_of_units_sold\", \"unit_price\", \"cost\", \"sales_channel\"]\n",
        "\n",
        "data = [header]\n",
        "for _ in range(num_entries):\n",
        "    date = generate_random_date(start_date, end_date).strftime(\"%Y-%m-%d\")\n",
        "    product = f\"Product{random.randint(1, 10)}\"\n",
        "    product_category = random.choice([\"Electronics\", \"Clothing\", \"Home Goods\"])\n",
        "    number_of_units_sold = random.randint(10, 100)\n",
        "    unit_price = round(random.uniform(20, 200), 2)\n",
        "    cost = round(unit_price * number_of_units_sold * random.uniform(0.8, 1.2), 2)\n",
        "    sales_channel = random.choice([\"Online\", \"In-store\"])\n",
        "\n",
        "    row = [date, product, product_category, number_of_units_sold, unit_price, cost, sales_channel]\n",
        "    data.append(row)\n",
        "\n",
        "file_path = \"sales_data.csv\"\n",
        "\n",
        "with open(file_path, mode=\"w\", newline=\"\", encoding=\"utf-8\") as file:\n",
        "    writer = csv.writer(file)\n",
        "    writer.writerows(data)\n",
        "\n",
        "print(f\"CSV file '{file_path}' with {num_entries} entries has been created.\")\n",
        "\n"
      ],
      "metadata": {
        "colab": {
          "base_uri": "https://localhost:8080/"
        },
        "id": "XrBk9jYkZgXq",
        "outputId": "c1699e12-5f96-43f4-deaa-8e77a7dda8b6"
      },
      "execution_count": null,
      "outputs": [
        {
          "output_type": "stream",
          "name": "stdout",
          "text": [
            "CSV file 'sales_data.csv' with 1000 entries has been created.\n"
          ]
        }
      ]
    },
    {
      "cell_type": "code",
      "source": [
        "!pip install pandas"
      ],
      "metadata": {
        "colab": {
          "base_uri": "https://localhost:8080/"
        },
        "id": "afYzdL_RZjU-",
        "outputId": "617f88a5-eec3-4fbc-80fb-fa83c1c0d24c"
      },
      "execution_count": null,
      "outputs": [
        {
          "output_type": "stream",
          "name": "stdout",
          "text": [
            "Requirement already satisfied: pandas in /usr/local/lib/python3.10/dist-packages (1.5.3)\n",
            "Requirement already satisfied: python-dateutil>=2.8.1 in /usr/local/lib/python3.10/dist-packages (from pandas) (2.8.2)\n",
            "Requirement already satisfied: pytz>=2020.1 in /usr/local/lib/python3.10/dist-packages (from pandas) (2023.3.post1)\n",
            "Requirement already satisfied: numpy>=1.21.0 in /usr/local/lib/python3.10/dist-packages (from pandas) (1.23.5)\n",
            "Requirement already satisfied: six>=1.5 in /usr/local/lib/python3.10/dist-packages (from python-dateutil>=2.8.1->pandas) (1.16.0)\n"
          ]
        }
      ]
    },
    {
      "cell_type": "code",
      "source": [
        "import pandas as pd\n",
        "import json\n",
        "\n",
        "def infer_data_model(df):\n",
        "    columns = df.columns\n",
        "    data_model = {col: \"string\" for col in columns}\n",
        "    return data_model\n",
        "\n",
        "def extract_metadata(df, kpi_name):\n",
        "    metadata = {}\n",
        "\n",
        "    metadata[\"KPI\"] = kpi_name\n",
        "\n",
        "    slicer_candidates = [\"time period\", \"year\", \"product\", \"product category\", \"sales channel\"]\n",
        "    slicers = [col for col in slicer_candidates if col in df.columns]\n",
        "    if slicers:\n",
        "        metadata[\"Slicers\"] = slicers\n",
        "\n",
        "    metadata[\"Data Model\"] = infer_data_model(df)\n",
        "\n",
        "    metadata[\"Visualization\"] = choose_best_visualization(df)\n",
        "\n",
        "    return metadata\n",
        "\n",
        "def choose_best_visualization(df):\n",
        "    if 'revenue' in df.columns and df['revenue'].nunique() <= 5:\n",
        "        return \"pie_chart\"\n",
        "    elif 'date' in df.columns and df['date'].nunique() > 10:\n",
        "        return \"line_chart\"\n",
        "    elif 'date' in df.columns and df['date'].nunique() > 5:\n",
        "        return \"bar_chart\"\n",
        "    else:\n",
        "        return \"histogram\"\n",
        "\n",
        "csv_file_path = \"sales_data.csv\"\n",
        "df = pd.read_csv(csv_file_path)\n",
        "\n",
        "revenue_metadata = extract_metadata(df, \"Revenue\")\n",
        "\n",
        "json_data = {\n",
        "    \"Revenue Sales\": revenue_metadata\n",
        "}\n",
        "\n",
        "json_data_str = json.dumps(json_data, default=lambda x: None if pd.isna(x) else x, indent=2)\n",
        "\n",
        "json_file_path = \"revenue_metadata.json\"\n",
        "with open(json_file_path, \"w\") as json_file:\n",
        "    json_file.write(json_data_str)\n",
        "\n",
        "print(f\"JSON file '{json_file_path}' with metadata has been created.\")\n"
      ],
      "metadata": {
        "colab": {
          "base_uri": "https://localhost:8080/"
        },
        "id": "Egop53JjnuVi",
        "outputId": "54957b81-aa26-4023-caf0-fb4bbbef004e"
      },
      "execution_count": null,
      "outputs": [
        {
          "output_type": "stream",
          "name": "stdout",
          "text": [
            "JSON file 'revenue_metadata.json' with metadata has been created.\n"
          ]
        }
      ]
    },
    {
      "cell_type": "code",
      "source": [
        "import pandas as pd\n",
        "import json\n",
        "import calendar\n",
        "\n",
        "csv_file_path = \"sales_data.csv\"\n",
        "df = pd.read_csv(csv_file_path)\n",
        "\n",
        "df['date'] = pd.to_datetime(df['date'])\n",
        "\n",
        "df['month'] = df['date'].dt.month\n",
        "\n",
        "monthly_revenue = df.groupby(['month'])['number_of_units_sold', 'unit_price'].sum()\n",
        "monthly_revenue['total_revenue'] = monthly_revenue['number_of_units_sold'] * monthly_revenue['unit_price']\n",
        "\n",
        "line_chart_data = {\n",
        "    \"visual_type\": \"line_chart\",\n",
        "    \"description\": \"\",\n",
        "    \"value\": []\n",
        "}\n",
        "\n",
        "for month, data in monthly_revenue.iterrows():\n",
        "    month_name = calendar.month_abbr[month]\n",
        "    line_chart_data['value'].append({\n",
        "        \"x\": month_name,\n",
        "        \"y\": data['total_revenue']\n",
        "    })\n",
        "\n",
        "json_data = {\n",
        "    \"Revenue Line Chart\": line_chart_data\n",
        "}\n",
        "\n",
        "json_data_str = json.dumps(json_data, default=lambda x: None if pd.isna(x) else x, indent=2)\n",
        "\n",
        "json_file_path = \"revenue_line_chart.json\"\n",
        "with open(json_file_path, \"w\") as json_file:\n",
        "    json_file.write(json_data_str)\n",
        "\n",
        "print(f\"JSON file '{json_file_path}' with line chart data has been created.\")\n"
      ],
      "metadata": {
        "id": "mt2u_UEqJD3p",
        "colab": {
          "base_uri": "https://localhost:8080/"
        },
        "outputId": "6e6c3c99-d63f-4ab9-d5fd-79c6471cfa7c"
      },
      "execution_count": null,
      "outputs": [
        {
          "output_type": "stream",
          "name": "stdout",
          "text": [
            "JSON file 'revenue_line_chart.json' with line chart data has been created.\n"
          ]
        },
        {
          "output_type": "stream",
          "name": "stderr",
          "text": [
            "<ipython-input-16-0730acb4572d>:12: FutureWarning: Indexing with multiple keys (implicitly converted to a tuple of keys) will be deprecated, use a list instead.\n",
            "  monthly_revenue = df.groupby(['month'])['number_of_units_sold', 'unit_price'].sum()\n"
          ]
        }
      ]
    },
    {
      "cell_type": "code",
      "source": [
        "import pandas as pd\n",
        "import json\n",
        "import calendar\n",
        "\n",
        "csv_file_path = \"sales_data.csv\"\n",
        "df = pd.read_csv(csv_file_path)\n",
        "\n",
        "df['date'] = pd.to_datetime(df['date'])\n",
        "\n",
        "df['month'] = df['date'].dt.month\n",
        "\n",
        "monthly_revenue = df.groupby(['month'])['number_of_units_sold', 'unit_price'].sum()\n",
        "monthly_revenue['total_revenue'] = monthly_revenue['number_of_units_sold'] * monthly_revenue['unit_price']\n",
        "\n",
        "line_chart_data = {\n",
        "    \"visual_type\": \"line_chart\",\n",
        "    \"description\": \"\",\n",
        "    \"value\": []\n",
        "}\n",
        "\n",
        "for month, data in monthly_revenue.iterrows():\n",
        "    month_name = calendar.month_abbr[month]\n",
        "    line_chart_data['value'].append({\n",
        "        \"x\": month_name,\n",
        "        \"y\": data['total_revenue']\n",
        "    })\n",
        "\n",
        "json_data = {\n",
        "    \"Revenue Line Chart\": line_chart_data\n",
        "}\n",
        "\n",
        "json_data_str = json.dumps(json_data, default=lambda x: None if pd.isna(x) else x, indent=2)\n",
        "\n",
        "print(json_data_str)\n"
      ],
      "metadata": {
        "colab": {
          "base_uri": "https://localhost:8080/"
        },
        "id": "JRpnRdf4RE_X",
        "outputId": "8d2bb0ce-071f-4210-ca7c-116cc7aed02f"
      },
      "execution_count": null,
      "outputs": [
        {
          "output_type": "stream",
          "name": "stdout",
          "text": [
            "{\n",
            "  \"Revenue Line Chart\": {\n",
            "    \"visual_type\": \"line_chart\",\n",
            "    \"description\": \"\",\n",
            "    \"value\": [\n",
            "      {\n",
            "        \"x\": \"Jan\",\n",
            "        \"y\": 42514104.660000004\n",
            "      },\n",
            "      {\n",
            "        \"x\": \"Feb\",\n",
            "        \"y\": 40868273.28\n",
            "      },\n",
            "      {\n",
            "        \"x\": \"Mar\",\n",
            "        \"y\": 46542721.12\n",
            "      },\n",
            "      {\n",
            "        \"x\": \"Apr\",\n",
            "        \"y\": 47613166.54\n",
            "      },\n",
            "      {\n",
            "        \"x\": \"May\",\n",
            "        \"y\": 33843834.93\n",
            "      },\n",
            "      {\n",
            "        \"x\": \"Jun\",\n",
            "        \"y\": 48565128.400000006\n",
            "      },\n",
            "      {\n",
            "        \"x\": \"Jul\",\n",
            "        \"y\": 44529695.1\n",
            "      },\n",
            "      {\n",
            "        \"x\": \"Aug\",\n",
            "        \"y\": 35880684.25\n",
            "      },\n",
            "      {\n",
            "        \"x\": \"Sep\",\n",
            "        \"y\": 32978739.410000004\n",
            "      },\n",
            "      {\n",
            "        \"x\": \"Oct\",\n",
            "        \"y\": 53971279.92\n",
            "      },\n",
            "      {\n",
            "        \"x\": \"Nov\",\n",
            "        \"y\": 35885420.74\n",
            "      },\n",
            "      {\n",
            "        \"x\": \"Dec\",\n",
            "        \"y\": 38258325.9\n",
            "      }\n",
            "    ]\n",
            "  }\n",
            "}\n"
          ]
        },
        {
          "output_type": "stream",
          "name": "stderr",
          "text": [
            "<ipython-input-5-5a009d967b37>:12: FutureWarning: Indexing with multiple keys (implicitly converted to a tuple of keys) will be deprecated, use a list instead.\n",
            "  monthly_revenue = df.groupby(['month'])['number_of_units_sold', 'unit_price'].sum()\n"
          ]
        }
      ]
    }
  ]
}